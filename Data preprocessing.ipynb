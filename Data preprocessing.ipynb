{
 "cells": [
  {
   "cell_type": "code",
   "execution_count": 1,
   "metadata": {},
   "outputs": [],
   "source": [
    "import pandas as pd\n",
    "\n",
    "#Loads the json file in a pandas dataframe\n",
    "def loadDataset(file):\n",
    "    df=(pd.read_json(file)).T\n",
    "    df.index.name=\"id\"\n",
    "    return df"
   ]
  },
  {
   "cell_type": "code",
   "execution_count": 2,
   "metadata": {},
   "outputs": [],
   "source": [
    "#Check whether any null value is present in the entire dataframe or not\n",
    "def checkNullValues(df):\n",
    "    ans=df.isnull().values.any()\n",
    "    if ans==True:\n",
    "        print(\"Null values are present in the dataset\")\n",
    "    else:\n",
    "        print(\"Hurray!No Null values present!\")"
   ]
  },
  {
   "cell_type": "code",
   "execution_count": 3,
   "metadata": {},
   "outputs": [],
   "source": [
    "#finds and removes ADVERTISEMENTS from the dataset\n",
    "def removeAdvertisement(df):\n",
    "    for i in df.columns:\n",
    "            if i==\"ingredients\":\n",
    "                for j in range(0,len(df[i])):\n",
    "                    for k in range(0,len(df[i][j])):\n",
    "                        if df[i][j][k].find(\"ADVERTISEMENT\")==-1:\n",
    "                            continue\n",
    "                        else:\n",
    "                            df[i][j][k]=df[i][j][k].replace(\"ADVERTISEMENT\",\"\")\n",
    "\n",
    "            else:\n",
    "                for j in range(0,len(df[i])):\n",
    "                    if df[i][j].find(\"ADVERTISEMENT\")==-1:\n",
    "                        continue\n",
    "                    else:\n",
    "                        df[i][j]=df[i][j].replace(\"ADVERTISEMENT\",\"\")\n",
    "    return df"
   ]
  },
  {
   "cell_type": "code",
   "execution_count": 9,
   "metadata": {},
   "outputs": [],
   "source": [
    "def removeNullValues(df):\n",
    "    df=df.dropna()\n",
    "    return df"
   ]
  },
  {
   "cell_type": "code",
   "execution_count": 15,
   "metadata": {},
   "outputs": [],
   "source": [
    "#Test case to check Advertisements in dataset\n",
    "def assignFlag(df):\n",
    "    flag=0\n",
    "    for i in df.columns:\n",
    "            if i ==\"ingredients\":\n",
    "                for j in range(0,len(df[i])):\n",
    "                    for k in range(0,len(df[i][j])):\n",
    "                        if df[i][j][k].find(\"ADVERTISEMENT\")==-1:\n",
    "                            continue\n",
    "                        else:\n",
    "                            #print(\"ADVERTISEMENT FOUND!\")\n",
    "                            flag=1\n",
    "                            return flag\n",
    "            else:\n",
    "                for j in range(0,len(df[i])):\n",
    "                    if df[i][j].find(\"ADVERTISEMENT\")==-1:\n",
    "                        continue\n",
    "                    else:\n",
    "                        #print(\"ADVERTISEMENT FOUND!\")\n",
    "                        flag=1\n",
    "                        return flag\n",
    "\n",
    "def checkAdvertisement(df):\n",
    "    if assignFlag(df)==1:\n",
    "        print(\"ADVERTISEMENT FOUND!\")\n",
    "    else:\n",
    "        print('HURRAY!NO ADVERTISEMENT FOUND!')"
   ]
  },
  {
   "cell_type": "code",
   "execution_count": 18,
   "metadata": {},
   "outputs": [],
   "source": [
    "def exportJSON(df):\n",
    "    df.to_json(\"preprocessed_dataset.json\")"
   ]
  },
  {
   "cell_type": "code",
   "execution_count": 21,
   "metadata": {},
   "outputs": [],
   "source": [
    "def main():\n",
    "    data=loadDataset(\"recipes_raw_nosource_ar.json\")\n",
    "    checkNullValues(data)\n",
    "    data=removeNullValues(data)\n",
    "    checkNullValues(data)\n",
    "    checkAdvertisement(data)\n",
    "    data=removeAdvertisement(data)\n",
    "    checkAdvertisement(data)\n",
    "    checkNullValues(data)\n",
    "    exportJSON(data)"
   ]
  },
  {
   "cell_type": "code",
   "execution_count": 22,
   "metadata": {},
   "outputs": [
    {
     "name": "stdout",
     "output_type": "stream",
     "text": [
      "Null values are present in the dataset\n",
      "Hurray!No Null values present!\n",
      "ADVERTISEMENT FOUND!\n",
      "HURRAY!NO ADVERTISEMENT FOUND!\n",
      "Hurray!No Null values present!\n"
     ]
    }
   ],
   "source": [
    "main()"
   ]
  },
  {
   "cell_type": "code",
   "execution_count": null,
   "metadata": {},
   "outputs": [],
   "source": []
  }
 ],
 "metadata": {
  "kernelspec": {
   "display_name": "Python 3",
   "language": "python",
   "name": "python3"
  },
  "language_info": {
   "codemirror_mode": {
    "name": "ipython",
    "version": 3
   },
   "file_extension": ".py",
   "mimetype": "text/x-python",
   "name": "python",
   "nbconvert_exporter": "python",
   "pygments_lexer": "ipython3",
   "version": "3.7.3"
  }
 },
 "nbformat": 4,
 "nbformat_minor": 2
}
